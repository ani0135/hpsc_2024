{
 "cells": [
  {
   "cell_type": "code",
   "execution_count": 1,
   "id": "30f13258",
   "metadata": {},
   "outputs": [
    {
     "name": "stdout",
     "output_type": "stream",
     "text": [
      "Requirement already satisfied: numpy in /home/ani/anaconda3/lib/python3.11/site-packages (1.24.3)\r\n"
     ]
    }
   ],
   "source": [
    "# Libraries needed for today's session to be installed\n",
    "!pip install numpy"
   ]
  },
  {
   "cell_type": "code",
   "execution_count": 6,
   "id": "826fed7e",
   "metadata": {},
   "outputs": [],
   "source": [
    "import mysqrt"
   ]
  },
  {
   "cell_type": "code",
   "execution_count": 3,
   "id": "45a01949",
   "metadata": {},
   "outputs": [
    {
     "data": {
      "text/plain": [
       "'/media/ani/TOSHIBA_E1/HPSC/hpsc_2024/codes/python/timing_codes'"
      ]
     },
     "execution_count": 3,
     "metadata": {},
     "output_type": "execute_result"
    }
   ],
   "source": [
    "pwd"
   ]
  },
  {
   "cell_type": "code",
   "execution_count": 4,
   "id": "0ec0ae7e",
   "metadata": {},
   "outputs": [
    {
     "name": "stdout",
     "output_type": "stream",
     "text": [
      "['/media/ani/TOSHIBA_E1/HPSC/hpsc_2024/codes/python/timing_codes', '/home/ani/anaconda3/lib/python311.zip', '/home/ani/anaconda3/lib/python3.11', '/home/ani/anaconda3/lib/python3.11/lib-dynload', '', '/home/ani/.local/lib/python3.11/site-packages', '/home/ani/anaconda3/lib/python3.11/site-packages']\n"
     ]
    }
   ],
   "source": [
    "import sys\n",
    "print(sys.path)"
   ]
  },
  {
   "cell_type": "code",
   "execution_count": 5,
   "id": "8fc9674b",
   "metadata": {},
   "outputs": [],
   "source": [
    "sys.path.append('/media/ani/TOSHIBA_E1/HPSC/hpsc_2024/codes/python/mysqrt')"
   ]
  },
  {
   "cell_type": "code",
   "execution_count": 7,
   "id": "09bd6ee3",
   "metadata": {},
   "outputs": [
    {
     "name": "stdout",
     "output_type": "stream",
     "text": [
      "619 ns ± 1.41 ns per loop (mean ± std. dev. of 7 runs, 1,000,000 loops each)\n"
     ]
    }
   ],
   "source": [
    "timeit mysqrt.sqrt2(2.)"
   ]
  },
  {
   "cell_type": "code",
   "execution_count": null,
   "id": "80046b96",
   "metadata": {},
   "outputs": [],
   "source": [
    "from numpy import *"
   ]
  },
  {
   "cell_type": "code",
   "execution_count": null,
   "id": "83148c48",
   "metadata": {},
   "outputs": [],
   "source": [
    "timeit sqrt(2.)"
   ]
  },
  {
   "cell_type": "code",
   "execution_count": null,
   "id": "06d2917e",
   "metadata": {},
   "outputs": [],
   "source": [
    "x=linspace(0,1000,1001)"
   ]
  },
  {
   "cell_type": "code",
   "execution_count": null,
   "id": "b35ba7a6",
   "metadata": {},
   "outputs": [],
   "source": [
    "x"
   ]
  },
  {
   "cell_type": "code",
   "execution_count": null,
   "id": "7ebe479a",
   "metadata": {},
   "outputs": [],
   "source": [
    "timeit y=sqrt(x)"
   ]
  },
  {
   "cell_type": "code",
   "execution_count": null,
   "id": "8b821f27",
   "metadata": {},
   "outputs": [],
   "source": [
    "size(y)"
   ]
  },
  {
   "cell_type": "code",
   "execution_count": 8,
   "id": "2bb9f5ca",
   "metadata": {},
   "outputs": [
    {
     "name": "stdout",
     "output_type": "stream",
     "text": [
      "881 µs ± 5.35 µs per loop (mean ± std. dev. of 7 runs, 1,000 loops each)\n"
     ]
    }
   ],
   "source": [
    "%%timeit\n",
    "for i in range(1001):\n",
    "    mysqrt.sqrt2(i)"
   ]
  },
  {
   "cell_type": "code",
   "execution_count": 10,
   "id": "cfaabd76",
   "metadata": {},
   "outputs": [],
   "source": [
    "import time"
   ]
  },
  {
   "cell_type": "code",
   "execution_count": 11,
   "id": "e2b1c112",
   "metadata": {},
   "outputs": [
    {
     "ename": "AttributeError",
     "evalue": "module 'time' has no attribute 'timeit'",
     "output_type": "error",
     "traceback": [
      "\u001b[0;31m---------------------------------------------------------------------------\u001b[0m",
      "\u001b[0;31mAttributeError\u001b[0m                            Traceback (most recent call last)",
      "Cell \u001b[0;32mIn[11], line 1\u001b[0m\n\u001b[0;32m----> 1\u001b[0m tic\u001b[38;5;241m=\u001b[39mtime\u001b[38;5;241m.\u001b[39mtimeit()\n\u001b[1;32m      2\u001b[0m \u001b[38;5;66;03m# some statements 1\u001b[39;00m\n\u001b[1;32m      3\u001b[0m toc\u001b[38;5;241m=\u001b[39mtime\u001b[38;5;241m.\u001b[39mtimeit()\n",
      "\u001b[0;31mAttributeError\u001b[0m: module 'time' has no attribute 'timeit'"
     ]
    }
   ],
   "source": [
    "tic=time.timeit()\n",
    "# some statements 1\n",
    "toc=time.timeit()\n",
    "time_taken_1=toc-tic\n",
    "\n",
    "\n",
    "# some statements 2\n",
    "\n",
    "# some statements 3"
   ]
  }
 ],
 "metadata": {
  "kernelspec": {
   "display_name": "Python 3 (ipykernel)",
   "language": "python",
   "name": "python3"
  },
  "language_info": {
   "codemirror_mode": {
    "name": "ipython",
    "version": 3
   },
   "file_extension": ".py",
   "mimetype": "text/x-python",
   "name": "python",
   "nbconvert_exporter": "python",
   "pygments_lexer": "ipython3",
   "version": "3.11.5"
  }
 },
 "nbformat": 4,
 "nbformat_minor": 5
}
